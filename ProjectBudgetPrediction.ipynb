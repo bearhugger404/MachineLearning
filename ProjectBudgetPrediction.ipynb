{
 "cells": [
  {
   "cell_type": "code",
   "execution_count": 4,
   "metadata": {},
   "outputs": [],
   "source": [
    "#1 - import raw csv\n",
    "import pandas as pd\n",
    "df = pd.read_csv(\"C:\\\\Users\\\\Ganga\\\\Desktop\\\\Python tutorials\\\\Capital_Project_Schedules_and_Budgets.csv\")\n",
    "#drop 1st col\n",
    "df = df.drop('Project Name', axis=1)\n",
    "#print(df.head())"
   ]
  },
  {
   "cell_type": "code",
   "execution_count": 36,
   "metadata": {},
   "outputs": [],
   "source": [
    "#2 - create dummy cols\n",
    "df_dummy = pd.get_dummies(df)\n",
    "#print(df_dummy.head())\n",
    "#drop the last dummy col\n",
    "df_dummy = df_dummy.drop('Phase_Scope', axis=1)\n",
    "#print(df_dummy.head())"
   ]
  },
  {
   "cell_type": "code",
   "execution_count": 22,
   "metadata": {},
   "outputs": [],
   "source": [
    "#3 - create feature & target vectors\n",
    "X = df_dummy.drop('Total Phase Actual Spending', axis=1).values\n",
    "y = df_dummy['Total Phase Actual Spending'].values"
   ]
  },
  {
   "cell_type": "code",
   "execution_count": 7,
   "metadata": {},
   "outputs": [
    {
     "name": "stderr",
     "output_type": "stream",
     "text": [
      "C:\\Users\\Ganga\\Anaconda3\\lib\\site-packages\\sklearn\\utils\\validation.py:475: DataConversionWarning: Data with input dtype int64 was converted to float64 by the scale function.\n",
      "  warnings.warn(msg, DataConversionWarning)\n"
     ]
    }
   ],
   "source": [
    "#4 - scale the vectors\n",
    "from sklearn.preprocessing import scale\n",
    "X_scaled = scale(X)\n",
    "y_scaled = scale(y)"
   ]
  },
  {
   "cell_type": "code",
   "execution_count": 25,
   "metadata": {},
   "outputs": [
    {
     "data": {
      "text/plain": [
       "0.9874659094421213"
      ]
     },
     "execution_count": 25,
     "metadata": {},
     "output_type": "execute_result"
    }
   ],
   "source": [
    "#5 - create training & test sets from available data & perform prediction on that\n",
    "from sklearn.model_selection import train_test_split\n",
    "from sklearn import linear_model\n",
    "X_train, X_test, y_train, y_test = train_test_split(X_scaled,y_scaled,test_size = 0.3, random_state=42)\n",
    "reg_all = linear_model.LinearRegression()\n",
    "reg_all.fit(X_train, y_train)\n",
    "y_pred = reg_all.predict(X_test)\n",
    "reg_all.score(X_test, y_test)"
   ]
  },
  {
   "cell_type": "code",
   "execution_count": 8,
   "metadata": {},
   "outputs": [
    {
     "name": "stdout",
     "output_type": "stream",
     "text": [
      "[0.98462897 0.99709233 0.96594617 0.9967099  0.98955255]\n"
     ]
    }
   ],
   "source": [
    "#6 - perform linear regression by creating cross validation sets\n",
    "from sklearn.model_selection import cross_val_score\n",
    "from sklearn import linear_model\n",
    "reg = linear_model.LinearRegression()\n",
    "cv_results = cross_val_score(reg, X_scaled, y_scaled, cv=5)\n",
    "print(cv_results)"
   ]
  },
  {
   "cell_type": "code",
   "execution_count": 17,
   "metadata": {},
   "outputs": [
    {
     "name": "stdout",
     "output_type": "stream",
     "text": [
      "0.98756825578213\n"
     ]
    }
   ],
   "source": [
    "#7 - implement Ridge rigression model by using hyperparameter tuning for selecting alpha\n",
    "from sklearn.model_selection import GridSearchCV\n",
    "from sklearn.linear_model import Ridge\n",
    "from sklearn.model_selection import train_test_split\n",
    "import numpy as np\n",
    "param_grid = {'alpha': np.linspace(0, 1, num=5)}\n",
    "X_train, X_test, y_train, y_test = train_test_split(X_scaled,y_scaled,test_size = 0.3, random_state=42)\n",
    "ridge_cv = Ridge()\n",
    "ridge_cv = GridSearchCV(ridge, param_grid, cv=5)\n",
    "ridge_cv.fit(X_train, y_train)\n",
    "y_pred = ridge_cv.predict(X_test)\n",
    "print(ridge_cv.score(X_test, y_test))\n",
    "#print(ridge_cv.best_params_)\n",
    "#print(ridge_cv.best_score_)"
   ]
  },
  {
   "cell_type": "code",
   "execution_count": 37,
   "metadata": {},
   "outputs": [
    {
     "name": "stdout",
     "output_type": "stream",
     "text": [
      "contents of X_new:\n",
      "   259    87     50000  49621  0      0      0      0      0      1    \n",
      "0    136    120   8017  23855      0      0      0      0      0      0\n"
     ]
    }
   ],
   "source": [
    "#8 - predict using the regression & ridge models\n",
    "np_array = np.array([259, 87, 50000, 49621, 0, 0, 0, 0, 0, 1], dtype=np.int64)\n",
    "X_new = pd.DataFrame([[136, 120, 8017, 23855, 0, 0, 0, 0, 0, 0]], columns=list(np_array))\n",
    "print(\"contents of X_new:\")\n",
    "print(X_new)\n"
   ]
  },
  {
   "cell_type": "code",
   "execution_count": 38,
   "metadata": {},
   "outputs": [
    {
     "name": "stdout",
     "output_type": "stream",
     "text": [
      "[23527.17517996]\n"
     ]
    }
   ],
   "source": [
    "#8.1 - predict using the regression model\n",
    "new_prediction = reg_all.predict(X_new)\n",
    "print(new_prediction)"
   ]
  },
  {
   "cell_type": "code",
   "execution_count": 39,
   "metadata": {},
   "outputs": [
    {
     "name": "stdout",
     "output_type": "stream",
     "text": [
      "[23356.62107179]\n"
     ]
    }
   ],
   "source": [
    "#8.2 - predict using the regression model\n",
    "new_prediction = ridge_cv.predict(X_new)\n",
    "print(new_prediction)"
   ]
  },
  {
   "cell_type": "code",
   "execution_count": null,
   "metadata": {},
   "outputs": [],
   "source": []
  }
 ],
 "metadata": {
  "kernelspec": {
   "display_name": "Python 3",
   "language": "python",
   "name": "python3"
  },
  "language_info": {
   "codemirror_mode": {
    "name": "ipython",
    "version": 3
   },
   "file_extension": ".py",
   "mimetype": "text/x-python",
   "name": "python",
   "nbconvert_exporter": "python",
   "pygments_lexer": "ipython3",
   "version": "3.6.4"
  }
 },
 "nbformat": 4,
 "nbformat_minor": 2
}
